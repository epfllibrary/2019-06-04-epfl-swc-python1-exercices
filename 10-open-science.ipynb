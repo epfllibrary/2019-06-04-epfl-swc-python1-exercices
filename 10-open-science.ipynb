{
 "cells": [
  {
   "cell_type": "markdown",
   "metadata": {},
   "source": [
    "![](https://software-carpentry.org/assets/img/logo-blue.svg)\n",
    "\n",
    "# Software Carpentry workshop\n",
    "\n",
    "June 4-5, 2019   \n",
    "EPFL, Lausanne\n",
    "\n",
    "---\n",
    "\n",
    "# Exercises notebook"
   ]
  },
  {
   "cell_type": "markdown",
   "metadata": {},
   "source": [
    "## 10. Open Science"
   ]
  },
  {
   "cell_type": "markdown",
   "metadata": {},
   "source": [
    "### How Reproducible Is My Work?\n",
    "\n",
    "Ask one of your labmates to reproduce a result you recently obtained using only what they can find in your papers or on the web. Try to do the same for one of their results, then try to do it for a result from a lab you work with."
   ]
  },
  {
   "cell_type": "markdown",
   "metadata": {},
   "source": [
    "> -> add personal comments here"
   ]
  },
  {
   "cell_type": "markdown",
   "metadata": {},
   "source": [
    "### How to Find an Appropriate Data Repository?\n",
    "\n",
    "    Surf the internet for a couple of minutes and check out the data repositories mentioned above: [Figshare](https://figshare.com), [Zenodo](https://zenodo.org), [Dryad](https://datadryad.org). Depending on your field of research, you might find community-recognized repositories that are well-known in your field. You might also find useful [these data repositories recommended by Nature](https://www.nature.com/sdata/data-policies/repositories). Discuss with your neighbor which data repository you might want to approach for your current project and explain why."
   ]
  },
  {
   "cell_type": "markdown",
   "metadata": {},
   "source": [
    "> -> add personal comments here"
   ]
  },
  {
   "cell_type": "code",
   "execution_count": null,
   "metadata": {},
   "outputs": [],
   "source": []
  }
 ],
 "metadata": {
  "kernelspec": {
   "display_name": "Python 3",
   "language": "python",
   "name": "python3"
  },
  "language_info": {
   "codemirror_mode": {
    "name": "ipython",
    "version": 3
   },
   "file_extension": ".py",
   "mimetype": "text/x-python",
   "name": "python",
   "nbconvert_exporter": "python",
   "pygments_lexer": "ipython3",
   "version": "3.5.2"
  }
 },
 "nbformat": 4,
 "nbformat_minor": 2
}
