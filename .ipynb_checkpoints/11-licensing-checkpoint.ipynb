{
 "cells": [
  {
   "cell_type": "markdown",
   "metadata": {},
   "source": [
    "![](https://software-carpentry.org/assets/img/logo-blue.svg)\n",
    "\n",
    "# Software Carpentry workshop\n",
    "\n",
    "June 4-5, 2019   \n",
    "EPFL, Lausanne\n",
    "\n",
    "---\n",
    "\n",
    "# Exercises notebook"
   ]
  },
  {
   "cell_type": "markdown",
   "metadata": {},
   "source": [
    "## 11. Licensing"
   ]
  },
  {
   "cell_type": "markdown",
   "metadata": {},
   "source": [
    "### Can I Use Open License?\n",
    "\n",
    "Find out whether you are allowed to apply an open license to your software. Can you do this unilaterally, or do you need permission from someone in your institution? If so, who?"
   ]
  },
  {
   "cell_type": "markdown",
   "metadata": {},
   "source": [
    "> -> add personal comments here"
   ]
  },
  {
   "cell_type": "markdown",
   "metadata": {},
   "source": [
    "### What licenses have I already accepted?\n",
    "\n",
    "Many of the software tools we use on a daily basis (including in this workshop) are released as open-source software. Pick a project on GitHub from the list below, or one of your own choosing. Find its license (usually in a file called `LICENSE` or `COPYING`) and talk about how it restricts your use of the software. Is it one of the licenses discussed in this session? How is it different?\n",
    "\n",
    "* [Git](https://github.com/git/git), the source-code management tool\n",
    "* [CPython](https://github.com/python/cpython), the standard implementation of the Python language\n",
    "* [Jupyter](https://github.com/jupyter), the project behind the web-based Python notebooks we’ll be using\n",
    "* [EtherPad](https://github.com/ether/etherpad-lite), a real-time collaborative editor"
   ]
  },
  {
   "cell_type": "markdown",
   "metadata": {},
   "source": [
    "> -> add personal comments here"
   ]
  },
  {
   "cell_type": "code",
   "execution_count": null,
   "metadata": {},
   "outputs": [],
   "source": []
  }
 ],
 "metadata": {
  "kernelspec": {
   "display_name": "Python 3",
   "language": "python",
   "name": "python3"
  },
  "language_info": {
   "codemirror_mode": {
    "name": "ipython",
    "version": 3
   },
   "file_extension": ".py",
   "mimetype": "text/x-python",
   "name": "python",
   "nbconvert_exporter": "python",
   "pygments_lexer": "ipython3",
   "version": "3.5.2"
  }
 },
 "nbformat": 4,
 "nbformat_minor": 2
}
